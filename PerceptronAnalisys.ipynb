{
 "cells": [
  {
   "cell_type": "code",
   "execution_count": 1,
   "metadata": {},
   "outputs": [
    {
     "name": "stdout",
     "output_type": "stream",
     "text": [
      "importing Jupyter notebook from Functions.ipynb\n"
     ]
    }
   ],
   "source": [
    "import import_ipynb  #pip install import_ipynb\n",
    "from Functions import *\n",
    "import numpy as np\n",
    "import pandas as pd\n",
    "import os\n",
    "import matplotlib.pyplot as plt"
   ]
  },
  {
   "cell_type": "markdown",
   "metadata": {},
   "source": [
    "#### Owner -> Alexei Alves de Souza \n",
    "#### Matrícula -> 398611"
   ]
  },
  {
   "cell_type": "markdown",
   "metadata": {},
   "source": [
    "#### Introdução :                                                                                                                                                                                                       \n",
    "#### Nesse Trabalho será realizada a análise de um Perceptron Simples , o qual será utilizado para prever resultados em funções lineares e não lineares, bem como no Dataset HearthstoneMetaGenerator apresentado no Trabalho anterior.\n",
    "#### Também será abordado o Método da Validação Cruzada, utilizado principalmente em datasets menos complexos para uma validação mais efetiva do modelo."
   ]
  },
  {
   "cell_type": "markdown",
   "metadata": {},
   "source": [
    "#### O classificador perceptron utilizado será o apresentado na descrição da disciplina abordado no livro Python Machine Learning de Sebastian Raschka e Vahid Mirjalili"
   ]
  },
  {
   "cell_type": "code",
   "execution_count": 2,
   "metadata": {},
   "outputs": [],
   "source": [
    "class Perceptron(object):\n",
    "    \"\"\"Perceptron classifier.\n",
    "\n",
    "    Parameters\n",
    "    ------------\n",
    "    eta : float\n",
    "      Learning rate (between 0.0 and 1.0)\n",
    "    n_iter : int\n",
    "      Passes over the training dataset.\n",
    "    random_state : int\n",
    "      Random number generator seed for random weight\n",
    "      initialization.\n",
    "\n",
    "    Attributes\n",
    "    -----------\n",
    "    w_ : 1d-array\n",
    "      Weights after fitting.\n",
    "    errors_ : list\n",
    "      Number of misclassifications (updates) in each epoch.\n",
    "\n",
    "    \"\"\"\n",
    "    def __init__(self, eta=0.01, n_iter=50, random_state=1):\n",
    "        self.eta = eta\n",
    "        self.n_iter = n_iter\n",
    "        self.random_state = random_state\n",
    "\n",
    "    def fit(self, X, y):\n",
    "        \"\"\"Fit training data.\n",
    "\n",
    "        Parameters\n",
    "        ----------\n",
    "        X : {array-like}, shape = [n_examples, n_features]\n",
    "          Training vectors, where n_examples is the number of examples and\n",
    "          n_features is the number of features.\n",
    "        y : array-like, shape = [n_examples]\n",
    "          Target values.\n",
    "\n",
    "        Returns\n",
    "        -------\n",
    "        self : object\n",
    "\n",
    "        \"\"\"\n",
    "        rgen = np.random.RandomState(self.random_state)\n",
    "        self.w_ = rgen.normal(loc=0.0, scale=0.01, size=1 + X.shape[1])\n",
    "        self.errors_ = []\n",
    "\n",
    "        for _ in range(self.n_iter):\n",
    "            errors = 0\n",
    "            for xi, target in zip(X, y):\n",
    "                update = self.eta * (target - self.predict(xi))\n",
    "                self.w_[1:] += update * xi\n",
    "                self.w_[0] += update\n",
    "                errors += int(update != 0.0)\n",
    "            self.errors_.append(errors)\n",
    "        return self\n",
    "\n",
    "    def net_input(self, X):\n",
    "        \"\"\"Calculate net input\"\"\"\n",
    "        return np.dot(X, self.w_[1:]) + self.w_[0]\n",
    "\n",
    "    def predict(self, X):\n",
    "        \"\"\"Return class label after unit step\"\"\"\n",
    "        return np.where(self.net_input(X) >= 0.0, 1, -1)"
   ]
  },
  {
   "cell_type": "markdown",
   "metadata": {},
   "source": [
    "### Questão 1: Função para calcula a acurácia do modelo\n"
   ]
  },
  {
   "cell_type": "code",
   "execution_count": 3,
   "metadata": {},
   "outputs": [],
   "source": [
    "def model_score(X_test,y_test,perceptron):\n",
    "    y_test = np.array(y_test)\n",
    "    y_predict = perceptron.predict(X_test)\n",
    "    total_lb = len(y_test)\n",
    "    \n",
    "    equal_lb, = np.where(y_test==y_predict)\n",
    "    equal_lb = len(equal_lb)\n",
    "    score = equal_lb/total_lb\n",
    "    return score"
   ]
  },
  {
   "cell_type": "markdown",
   "metadata": {},
   "source": [
    "### Questão 2: Método de Validação Cruzada\n",
    "#### Esse método é baseado em dividir o dataset em blocos de treino e teste e a cada iteração variar o bloco de teste sendo os demais de treinamento para assim reduzir resultados tendenciosos\n",
    "#### MVC(X,y,n_div):\n",
    "##### X -> Conjunto contendo os atributos\n",
    "##### y -> Conjunto contendo os labels\n",
    "##### n_div -> número de divisões ou iterações para o MVC , caso a divisão  do tamanho do vetor de dados pelo n_div possuir resto maior que zero serão acrescentados valores aleatórios pertencentes ao dataset."
   ]
  },
  {
   "cell_type": "code",
   "execution_count": 4,
   "metadata": {},
   "outputs": [],
   "source": [
    "from sklearn.model_selection import train_test_split"
   ]
  },
  {
   "cell_type": "code",
   "execution_count": 5,
   "metadata": {},
   "outputs": [],
   "source": [
    "def MVC (X,y,n_div):\n",
    "    resto = len(X)%n_div\n",
    "    Xdata = X.copy()\n",
    "    ydata = y.copy()\n",
    "    mat_score = np.empty(0)\n",
    "    #Acrescenta valores aleátorios pertencentes ao dataset para que a divisão seja exata\n",
    "    if resto !=  0 :\n",
    "        div = len(Xdata)//n_div\n",
    "        size = (div+1)*n_div - len(Xdata)\n",
    "        rand_idxs = np.random.randint(len(Xdata), size = size)\n",
    "        for i in range (size):\n",
    "            Xdata = np.vstack((Xdata,X[rand_idxs[i]]))\n",
    "            ydata = np.append(ydata,y[rand_idxs[i]])   \n",
    "    #Faz o MCV para o número de divisões utilizado\n",
    "    st = 0\n",
    "    end = len(Xdata)\n",
    "    st_test = 0\n",
    "    end_test = 0\n",
    "    for i in range (n_div):\n",
    "        st_test = end_test\n",
    "        end_test = int((end/n_div)*(i+1))\n",
    "\n",
    "        Xtrain = np.concatenate((Xdata[st:st_test],Xdata[end_test:end]))\n",
    "        Xtest = Xdata[st_test:end_test]\n",
    "    \n",
    "        ytrain = np.concatenate((ydata[st:st_test],ydata[end_test:end]))\n",
    "        ytest = ydata[st_test:end_test]\n",
    "        \n",
    "        #Realiza o treino e a validação\n",
    "        perceptron = Perceptron(eta=0.1, n_iter=100)\n",
    "        perceptron.fit(Xtrain,ytrain)\n",
    "        \n",
    "        score = model_score(Xtest,ytest,perceptron)\n",
    "        mat_score = np.append(mat_score,score)\n",
    "        \n",
    "        print('{}: score = {}'.format(i,score))\n",
    "    return mat_score\n",
    "        "
   ]
  },
  {
   "cell_type": "markdown",
   "metadata": {},
   "source": [
    "### Questão 3: Teste do Classificador Perceptron"
   ]
  },
  {
   "cell_type": "markdown",
   "metadata": {},
   "source": [
    "#### Linear:\n",
    "##### Neste exemplo será utilizada a função make_blobs da lib sklearn a qual gera pontos em distribuição gaussiano ideal para representações lineares"
   ]
  },
  {
   "cell_type": "code",
   "execution_count": 6,
   "metadata": {},
   "outputs": [],
   "source": [
    "from sklearn.datasets import make_blobs,make_circles"
   ]
  },
  {
   "cell_type": "code",
   "execution_count": 7,
   "metadata": {},
   "outputs": [
    {
     "data": {
      "text/html": [
       "<div>\n",
       "<style scoped>\n",
       "    .dataframe tbody tr th:only-of-type {\n",
       "        vertical-align: middle;\n",
       "    }\n",
       "\n",
       "    .dataframe tbody tr th {\n",
       "        vertical-align: top;\n",
       "    }\n",
       "\n",
       "    .dataframe thead th {\n",
       "        text-align: right;\n",
       "    }\n",
       "</style>\n",
       "<table border=\"1\" class=\"dataframe\">\n",
       "  <thead>\n",
       "    <tr style=\"text-align: right;\">\n",
       "      <th></th>\n",
       "      <th>x</th>\n",
       "      <th>y</th>\n",
       "      <th>label</th>\n",
       "    </tr>\n",
       "  </thead>\n",
       "  <tbody>\n",
       "    <tr>\n",
       "      <th>0</th>\n",
       "      <td>8.191323</td>\n",
       "      <td>8.323980</td>\n",
       "      <td>-1</td>\n",
       "    </tr>\n",
       "    <tr>\n",
       "      <th>1</th>\n",
       "      <td>11.185991</td>\n",
       "      <td>4.756871</td>\n",
       "      <td>1</td>\n",
       "    </tr>\n",
       "    <tr>\n",
       "      <th>2</th>\n",
       "      <td>8.605840</td>\n",
       "      <td>7.444967</td>\n",
       "      <td>1</td>\n",
       "    </tr>\n",
       "    <tr>\n",
       "      <th>3</th>\n",
       "      <td>7.079887</td>\n",
       "      <td>8.498500</td>\n",
       "      <td>-1</td>\n",
       "    </tr>\n",
       "    <tr>\n",
       "      <th>4</th>\n",
       "      <td>8.467341</td>\n",
       "      <td>4.483462</td>\n",
       "      <td>1</td>\n",
       "    </tr>\n",
       "    <tr>\n",
       "      <th>5</th>\n",
       "      <td>10.639910</td>\n",
       "      <td>4.216905</td>\n",
       "      <td>1</td>\n",
       "    </tr>\n",
       "    <tr>\n",
       "      <th>6</th>\n",
       "      <td>6.189761</td>\n",
       "      <td>9.080840</td>\n",
       "      <td>-1</td>\n",
       "    </tr>\n",
       "    <tr>\n",
       "      <th>7</th>\n",
       "      <td>8.049700</td>\n",
       "      <td>8.395257</td>\n",
       "      <td>-1</td>\n",
       "    </tr>\n",
       "    <tr>\n",
       "      <th>8</th>\n",
       "      <td>7.498001</td>\n",
       "      <td>7.776077</td>\n",
       "      <td>-1</td>\n",
       "    </tr>\n",
       "    <tr>\n",
       "      <th>9</th>\n",
       "      <td>5.811494</td>\n",
       "      <td>9.945966</td>\n",
       "      <td>-1</td>\n",
       "    </tr>\n",
       "  </tbody>\n",
       "</table>\n",
       "</div>"
      ],
      "text/plain": [
       "           x         y  label\n",
       "0   8.191323  8.323980     -1\n",
       "1  11.185991  4.756871      1\n",
       "2   8.605840  7.444967      1\n",
       "3   7.079887  8.498500     -1\n",
       "4   8.467341  4.483462      1\n",
       "5  10.639910  4.216905      1\n",
       "6   6.189761  9.080840     -1\n",
       "7   8.049700  8.395257     -1\n",
       "8   7.498001  7.776077     -1\n",
       "9   5.811494  9.945966     -1"
      ]
     },
     "execution_count": 7,
     "metadata": {},
     "output_type": "execute_result"
    }
   ],
   "source": [
    "X, y = make_blobs(n_samples=1000, centers=2, n_features=2)\n",
    "y[y == 0] = -1\n",
    "\n",
    "df = pd.DataFrame(dict(x = X[:,0],y = X[:,1],label = y))\n",
    "df.head(10)"
   ]
  },
  {
   "cell_type": "code",
   "execution_count": 8,
   "metadata": {},
   "outputs": [],
   "source": [
    "inMeta = np.where(y==1)\n",
    "outMeta = np.where(y==-1)\n",
    "\n",
    "Xin = X[inMeta]\n",
    "Xout = X[outMeta]"
   ]
  },
  {
   "cell_type": "code",
   "execution_count": 9,
   "metadata": {},
   "outputs": [
    {
     "data": {
      "text/plain": [
       "<matplotlib.collections.PathCollection at 0x26760cf31d0>"
      ]
     },
     "execution_count": 9,
     "metadata": {},
     "output_type": "execute_result"
    },
    {
     "data": {
      "image/png": "[encoded data removed]",
      "text/plain": [
       "<Figure size 432x288 with 1 Axes>"
      ]
     },
     "metadata": {
      "needs_background": "light"
     },
     "output_type": "display_data"
    }
   ],
   "source": [
    "plt.scatter(Xin[:,0],Xin[:,1],color = 'red', marker = 'o')\n",
    "plt.scatter(Xout[:,0],Xout[:,1],color = 'blue', marker = 'o')"
   ]
  },
  {
   "cell_type": "code",
   "execution_count": 10,
   "metadata": {},
   "outputs": [
    {
     "name": "stdout",
     "output_type": "stream",
     "text": [
      "0: score = 0.9790209790209791\n",
      "1: score = 0.972027972027972\n",
      "2: score = 0.993006993006993\n",
      "3: score = 0.972027972027972\n",
      "4: score = 0.986013986013986\n",
      "5: score = 0.9790209790209791\n",
      "6: score = 0.9370629370629371\n",
      "acuracia: 0.974025974025974\n"
     ]
    }
   ],
   "source": [
    "accuracy = MVC(X,y,7)\n",
    "print('acuracia:' ,accuracy.sum()/len(accuracy))"
   ]
  },
  {
   "cell_type": "markdown",
   "metadata": {},
   "source": [
    "#### Conclusão:\n",
    "##### É possível observar que em uma distribuição gaussiana com regiões bem definidas de cada classe foi possível obter uma precisão de quase 100% o que era esperado devido as áreas tão bem delimitadas."
   ]
  },
  {
   "cell_type": "markdown",
   "metadata": {},
   "source": [
    "#### Não linear\n",
    "\n",
    "##### Nessa análise será utilizado um dataset não linear gerado pela lib sklearn, no caso uma distribuição circular de pontos"
   ]
  },
  {
   "cell_type": "code",
   "execution_count": 11,
   "metadata": {},
   "outputs": [
    {
     "data": {
      "text/html": [
       "<div>\n",
       "<style scoped>\n",
       "    .dataframe tbody tr th:only-of-type {\n",
       "        vertical-align: middle;\n",
       "    }\n",
       "\n",
       "    .dataframe tbody tr th {\n",
       "        vertical-align: top;\n",
       "    }\n",
       "\n",
       "    .dataframe thead th {\n",
       "        text-align: right;\n",
       "    }\n",
       "</style>\n",
       "<table border=\"1\" class=\"dataframe\">\n",
       "  <thead>\n",
       "    <tr style=\"text-align: right;\">\n",
       "      <th></th>\n",
       "      <th>x</th>\n",
       "      <th>y</th>\n",
       "      <th>label</th>\n",
       "    </tr>\n",
       "  </thead>\n",
       "  <tbody>\n",
       "    <tr>\n",
       "      <th>0</th>\n",
       "      <td>-0.425779</td>\n",
       "      <td>-9.048271e-01</td>\n",
       "      <td>-1</td>\n",
       "    </tr>\n",
       "    <tr>\n",
       "      <th>1</th>\n",
       "      <td>-1.000000</td>\n",
       "      <td>-3.216245e-16</td>\n",
       "      <td>-1</td>\n",
       "    </tr>\n",
       "    <tr>\n",
       "      <th>2</th>\n",
       "      <td>0.800000</td>\n",
       "      <td>0.000000e+00</td>\n",
       "      <td>1</td>\n",
       "    </tr>\n",
       "    <tr>\n",
       "      <th>3</th>\n",
       "      <td>-0.309017</td>\n",
       "      <td>-9.510565e-01</td>\n",
       "      <td>-1</td>\n",
       "    </tr>\n",
       "    <tr>\n",
       "      <th>4</th>\n",
       "      <td>-0.743821</td>\n",
       "      <td>-2.944996e-01</td>\n",
       "      <td>1</td>\n",
       "    </tr>\n",
       "    <tr>\n",
       "      <th>5</th>\n",
       "      <td>0.743821</td>\n",
       "      <td>2.944996e-01</td>\n",
       "      <td>1</td>\n",
       "    </tr>\n",
       "    <tr>\n",
       "      <th>6</th>\n",
       "      <td>0.425779</td>\n",
       "      <td>9.048271e-01</td>\n",
       "      <td>-1</td>\n",
       "    </tr>\n",
       "    <tr>\n",
       "      <th>7</th>\n",
       "      <td>-0.050232</td>\n",
       "      <td>7.984214e-01</td>\n",
       "      <td>1</td>\n",
       "    </tr>\n",
       "    <tr>\n",
       "      <th>8</th>\n",
       "      <td>0.149905</td>\n",
       "      <td>-7.858298e-01</td>\n",
       "      <td>1</td>\n",
       "    </tr>\n",
       "    <tr>\n",
       "      <th>9</th>\n",
       "      <td>0.728969</td>\n",
       "      <td>-6.845471e-01</td>\n",
       "      <td>-1</td>\n",
       "    </tr>\n",
       "  </tbody>\n",
       "</table>\n",
       "</div>"
      ],
      "text/plain": [
       "          x             y  label\n",
       "0 -0.425779 -9.048271e-01     -1\n",
       "1 -1.000000 -3.216245e-16     -1\n",
       "2  0.800000  0.000000e+00      1\n",
       "3 -0.309017 -9.510565e-01     -1\n",
       "4 -0.743821 -2.944996e-01      1\n",
       "5  0.743821  2.944996e-01      1\n",
       "6  0.425779  9.048271e-01     -1\n",
       "7 -0.050232  7.984214e-01      1\n",
       "8  0.149905 -7.858298e-01      1\n",
       "9  0.728969 -6.845471e-01     -1"
      ]
     },
     "execution_count": 11,
     "metadata": {},
     "output_type": "execute_result"
    }
   ],
   "source": [
    "X,y = make_circles(n_samples=100)\n",
    "y[y == 0] = -1\n",
    "\n",
    "df = pd.DataFrame(dict(x = X[:,0],y = X[:,1],label = y))\n",
    "df.head(10)"
   ]
  },
  {
   "cell_type": "code",
   "execution_count": 12,
   "metadata": {},
   "outputs": [],
   "source": [
    "inMeta = np.where(y==1)\n",
    "outMeta = np.where(y==-1)\n",
    "\n",
    "Xin = X[inMeta]\n",
    "Xout = X[outMeta]"
   ]
  },
  {
   "cell_type": "code",
   "execution_count": 13,
   "metadata": {},
   "outputs": [
    {
     "data": {
      "text/plain": [
       "<matplotlib.collections.PathCollection at 0x26760d4cc50>"
      ]
     },
     "execution_count": 13,
     "metadata": {},
     "output_type": "execute_result"
    },
    {
     "data": {
      "image/png": "[encoded data removed]",
      "text/plain": [
       "<Figure size 432x288 with 1 Axes>"
      ]
     },
     "metadata": {
      "needs_background": "light"
     },
     "output_type": "display_data"
    }
   ],
   "source": [
    "plt.scatter(Xin[:,0],Xin[:,1],color = 'red', marker = 'o')\n",
    "plt.scatter(Xout[:,0],Xout[:,1],color = 'blue', marker = 'o')"
   ]
  },
  {
   "cell_type": "code",
   "execution_count": 14,
   "metadata": {},
   "outputs": [
    {
     "name": "stdout",
     "output_type": "stream",
     "text": [
      "0: score = 0.3333333333333333\n",
      "1: score = 0.5333333333333333\n",
      "2: score = 0.5333333333333333\n",
      "3: score = 0.4\n",
      "4: score = 0.4666666666666667\n",
      "5: score = 0.4\n",
      "6: score = 0.5333333333333333\n",
      "acuracia: 0.45714285714285713\n"
     ]
    }
   ],
   "source": [
    "accuracy = MVC(X,y,7)\n",
    "print('acuracia:' ,accuracy.sum()/len(accuracy))"
   ]
  },
  {
   "cell_type": "markdown",
   "metadata": {},
   "source": [
    "#### Conclusão:\n",
    "\n",
    "##### Em contraste com a região linear a acurácia de uma função não linear quando submetida à um perceptron é bem inferior e em muitos casos inferior a 50% , no qual uma análise aleátoria para duas classes poderia ser até mesmo mais adequada."
   ]
  },
  {
   "cell_type": "markdown",
   "metadata": {},
   "source": [
    "### Questão 4: Treinamento de um classificador perceptron no dataset do Hearthstone \n",
    "##### O objeto dessa análise é a partir das 2 variáveis winrate e número de partidas jogadas conseguir responder se o respectivo arquétipo pertence ou não ao META atual\n"
   ]
  },
  {
   "cell_type": "markdown",
   "metadata": {},
   "source": [
    "#### Definições :\n",
    "##### Hearthstone -> É um jogo de cartas online o qual possui 10 personagens com diferentes habilidade e cartas a eles atribuídas\n",
    "##### Arquétipos de decks -> Apesar de o jogo possuir 10 personagens os tipos de decks não são atribuídos a eles e sim a arquétipos. Arquétipos são atribuições dadas aos decks baseadas em uma ou mais cartas que este contém que o definem ou de uma jogabilidade predominante:\n",
    "##### ex: Deck Tempo -> Busca manter uma partida parelha para obter vantagem em algum momento com alguma combinação\n",
    "#####       Deck Galakrond -> Deck baseado em completar a missão atribuída por conter a carta Galakrond\n",
    "##### META : Conjunto de Decks que devido a serem frequentemente utilizados em determinado período recebem um 'nome' para caracteriza-los."
   ]
  },
  {
   "cell_type": "code",
   "execution_count": 15,
   "metadata": {},
   "outputs": [
    {
     "data": {
      "text/html": [
       "<div>\n",
       "<style scoped>\n",
       "    .dataframe tbody tr th:only-of-type {\n",
       "        vertical-align: middle;\n",
       "    }\n",
       "\n",
       "    .dataframe tbody tr th {\n",
       "        vertical-align: top;\n",
       "    }\n",
       "\n",
       "    .dataframe thead th {\n",
       "        text-align: right;\n",
       "    }\n",
       "</style>\n",
       "<table border=\"1\" class=\"dataframe\">\n",
       "  <thead>\n",
       "    <tr style=\"text-align: right;\">\n",
       "      <th></th>\n",
       "      <th>winrate</th>\n",
       "      <th>partidas</th>\n",
       "      <th>meta</th>\n",
       "    </tr>\n",
       "  </thead>\n",
       "  <tbody>\n",
       "    <tr>\n",
       "      <th>Big Druid</th>\n",
       "      <td>50.661122</td>\n",
       "      <td>43516.0</td>\n",
       "      <td>-1.0</td>\n",
       "    </tr>\n",
       "    <tr>\n",
       "      <th>Big Spell Mage</th>\n",
       "      <td>51.337626</td>\n",
       "      <td>7931.0</td>\n",
       "      <td>-1.0</td>\n",
       "    </tr>\n",
       "    <tr>\n",
       "      <th>Bomb Warrior</th>\n",
       "      <td>48.116848</td>\n",
       "      <td>25562.0</td>\n",
       "      <td>-1.0</td>\n",
       "    </tr>\n",
       "    <tr>\n",
       "      <th>Bruxo Murloc</th>\n",
       "      <td>45.553109</td>\n",
       "      <td>2454.0</td>\n",
       "      <td>-1.0</td>\n",
       "    </tr>\n",
       "    <tr>\n",
       "      <th>Caçador Dragão</th>\n",
       "      <td>54.380436</td>\n",
       "      <td>76701.0</td>\n",
       "      <td>1.0</td>\n",
       "    </tr>\n",
       "    <tr>\n",
       "      <th>Control Demon Hunter</th>\n",
       "      <td>44.436723</td>\n",
       "      <td>16964.0</td>\n",
       "      <td>-1.0</td>\n",
       "    </tr>\n",
       "    <tr>\n",
       "      <th>Cube Priest</th>\n",
       "      <td>46.027912</td>\n",
       "      <td>17422.0</td>\n",
       "      <td>-1.0</td>\n",
       "    </tr>\n",
       "    <tr>\n",
       "      <th>Dragon Druid</th>\n",
       "      <td>50.206510</td>\n",
       "      <td>66853.0</td>\n",
       "      <td>1.0</td>\n",
       "    </tr>\n",
       "    <tr>\n",
       "      <th>Druida Malygos</th>\n",
       "      <td>46.394315</td>\n",
       "      <td>8082.0</td>\n",
       "      <td>-1.0</td>\n",
       "    </tr>\n",
       "    <tr>\n",
       "      <th>Druida Missão</th>\n",
       "      <td>42.125080</td>\n",
       "      <td>11132.0</td>\n",
       "      <td>-1.0</td>\n",
       "    </tr>\n",
       "  </tbody>\n",
       "</table>\n",
       "</div>"
      ],
      "text/plain": [
       "                        winrate  partidas  meta\n",
       "Big Druid             50.661122   43516.0  -1.0\n",
       "Big Spell Mage        51.337626    7931.0  -1.0\n",
       "Bomb Warrior          48.116848   25562.0  -1.0\n",
       "Bruxo Murloc          45.553109    2454.0  -1.0\n",
       "Caçador Dragão        54.380436   76701.0   1.0\n",
       "Control Demon Hunter  44.436723   16964.0  -1.0\n",
       "Cube Priest           46.027912   17422.0  -1.0\n",
       "Dragon Druid          50.206510   66853.0   1.0\n",
       "Druida Malygos        46.394315    8082.0  -1.0\n",
       "Druida Missão         42.125080   11132.0  -1.0"
      ]
     },
     "execution_count": 15,
     "metadata": {},
     "output_type": "execute_result"
    }
   ],
   "source": [
    "#O dataset é obtido pela função DATASET a qual é construída a partir das análises do trabalho1 anterior e esta localizada \n",
    "#no arquivo Functions.ipynb\n",
    "\n",
    "#Obtém o dataset em que 1 pertence ao meta e -1 não\n",
    "patch = './data.log'\n",
    "data = DATASET(patch)\n",
    "data.head(10)"
   ]
  },
  {
   "cell_type": "code",
   "execution_count": 16,
   "metadata": {},
   "outputs": [
    {
     "data": {
      "text/plain": [
       "<matplotlib.collections.PathCollection at 0x26760e46f28>"
      ]
     },
     "execution_count": 16,
     "metadata": {},
     "output_type": "execute_result"
    },
    {
     "data": {
      "image/png": "[encoded data removed]",
      "text/plain": [
       "<Figure size 432x288 with 1 Axes>"
      ]
     },
     "metadata": {
      "needs_background": "light"
     },
     "output_type": "display_data"
    }
   ],
   "source": [
    "#Labels e Atributos\n",
    "y = data.iloc[:,2].values\n",
    "X = data.iloc[:,[0,1]].values\n",
    "\n",
    "#Plot do gráfico da distribuição\n",
    "inMeta = np.where(y==1)\n",
    "outMeta = np.where(y==-1)\n",
    "\n",
    "Xin = X[inMeta]\n",
    "Xout = X[outMeta]\n",
    "\n",
    "#Vermelho -> Pertence ao Meta; Azul -> Não pertence ao Meta\n",
    "plt.scatter(Xin[:,0],Xin[:,1],color = 'red', marker = 'o')\n",
    "plt.scatter(Xout[:,0],Xout[:,1],color = 'blue', marker = 'o')"
   ]
  },
  {
   "cell_type": "markdown",
   "metadata": {},
   "source": [
    "#### Analisando a acurácia para os dados winrate e número de partidas como atributos:"
   ]
  },
  {
   "cell_type": "code",
   "execution_count": 17,
   "metadata": {},
   "outputs": [
    {
     "name": "stdout",
     "output_type": "stream",
     "text": [
      "0: score = 0.14285714285714285\n",
      "1: score = 0.2857142857142857\n",
      "2: score = 0.5714285714285714\n",
      "3: score = 0.14285714285714285\n",
      "4: score = 0.42857142857142855\n",
      "5: score = 0.14285714285714285\n",
      "6: score = 0.7142857142857143\n",
      "acuracia: 0.3469387755102041\n"
     ]
    }
   ],
   "source": [
    "accuracy = MVC(X,y,7)\n",
    "print('acuracia:' ,accuracy.sum()/len(accuracy))"
   ]
  },
  {
   "cell_type": "markdown",
   "metadata": {},
   "source": [
    "#### É possível notar nessa análise uma alta imprecisão na predição dos valores bem como uma grande variação quando abordados diferentes conjuntos de teste e de treinamento.\n",
    "#### O motivo disso se deve principalmente aos valores de partidas os quais possuem uma variância muito grande o que é refletido no resultado obtido."
   ]
  },
  {
   "cell_type": "markdown",
   "metadata": {},
   "source": [
    "#### Para reduzir o erro e garantir uma predição mais adequada será realizada uma reatribução dos valores das partidas em níveis de 1 a 10 de para assim reduzir a variância entre os valores e ser possível inferir um resultado minimamente satisfatório ."
   ]
  },
  {
   "cell_type": "code",
   "execution_count": 19,
   "metadata": {},
   "outputs": [],
   "source": [
    "partidas = data['partidas'].values\n",
    "partidas_new = np.zeros_like(partidas)\n",
    "for i in range(len(partidas)):\n",
    "    num = partidas[i]\n",
    "    if num <= 10e3:\n",
    "        num = 1\n",
    "    elif num >= 10e4:\n",
    "        num = 10\n",
    "    else :\n",
    "        num = round(num/10e3)\n",
    "        \n",
    "    partidas_new[i] = num\n",
    "data_new = data.copy()\n",
    "data_new['partidas'] = partidas_new"
   ]
  },
  {
   "cell_type": "code",
   "execution_count": 20,
   "metadata": {},
   "outputs": [
    {
     "data": {
      "text/plain": [
       "<matplotlib.collections.PathCollection at 0x26760f610f0>"
      ]
     },
     "execution_count": 20,
     "metadata": {},
     "output_type": "execute_result"
    },
    {
     "data": {
      "image/png": "[encoded data removed]",
      "text/plain": [
       "<Figure size 432x288 with 1 Axes>"
      ]
     },
     "metadata": {
      "needs_background": "light"
     },
     "output_type": "display_data"
    }
   ],
   "source": [
    "y = data_new.iloc[:,2].values\n",
    "X = data_new.iloc[:,[0,1]].values\n",
    "\n",
    "inMeta = np.where(y==1)\n",
    "outMeta = np.where(y==-1)\n",
    "\n",
    "Xin = X[inMeta]\n",
    "Xout = X[outMeta]\n",
    "\n",
    "#Vermelho -> Pertence ao Meta; Azul -> Não pertence ao Meta\n",
    "plt.scatter(Xin[:,0],Xin[:,1],color = 'red', marker = 'o')\n",
    "plt.scatter(Xout[:,0],Xout[:,1],color = 'blue', marker = 'o')"
   ]
  },
  {
   "cell_type": "markdown",
   "metadata": {},
   "source": [
    "#### Acurácia para o dataset normalizado"
   ]
  },
  {
   "cell_type": "code",
   "execution_count": 21,
   "metadata": {},
   "outputs": [
    {
     "name": "stdout",
     "output_type": "stream",
     "text": [
      "0: score = 0.8\n",
      "1: score = 0.8\n",
      "2: score = 0.9\n",
      "3: score = 1.0\n",
      "4: score = 0.9\n",
      "acuracia: 0.8800000000000001\n"
     ]
    }
   ],
   "source": [
    "accuracy = MVC(X,y,5)\n",
    "print('acuracia:' ,accuracy.sum()/len(accuracy))"
   ]
  },
  {
   "cell_type": "markdown",
   "metadata": {},
   "source": [
    "#### Treinamento e predição para valores empiricamente atribuídos"
   ]
  },
  {
   "cell_type": "code",
   "execution_count": 23,
   "metadata": {},
   "outputs": [
    {
     "data": {
      "text/plain": [
       "[<matplotlib.lines.Line2D at 0x26760fbe2e8>]"
      ]
     },
     "execution_count": 23,
     "metadata": {},
     "output_type": "execute_result"
    },
    {
     "data": {
      "image/png": "[encoded data removed]",
      "text/plain": [
       "<Figure size 432x288 with 1 Axes>"
      ]
     },
     "metadata": {
      "needs_background": "light"
     },
     "output_type": "display_data"
    }
   ],
   "source": [
    "percep = Perceptron(eta=0.1, n_iter=100)\n",
    "percep.fit(X,y)\n",
    "### Gráfico com os updates(erros) em relação ao número de épocas\n",
    "plt.plot(range(1, len(percep.errors_) + 1), percep.errors_,marker = 'o')"
   ]
  },
  {
   "cell_type": "markdown",
   "metadata": {},
   "source": [
    "#### Serão criados 3 arquétipos cujos winrates e código do número de partidas serão : [40,1],[50,8],[50,1] ; ou seja empiricamente podemos deduzir que um deck com winrate menor que 50% e número de partidas igual ou inferior a 10 mil certamente não pertencerá ao meta, e que um com alta winrate e muitas partidas certamente pertencerá. Já no terceiro caso vemos que possuir um número extremamente baixo também impossibilita o pertencimento ao meta.\n",
    "#### y esperado = [ -1 1 -1]"
   ]
  },
  {
   "cell_type": "code",
   "execution_count": 24,
   "metadata": {},
   "outputs": [
    {
     "name": "stdout",
     "output_type": "stream",
     "text": [
      "Predição [-1  1 -1]\n"
     ]
    }
   ],
   "source": [
    "newClasses = np.array([[40,1],[50,8],[50,1]])\n",
    "print('Predição',percep.predict(newClasses));"
   ]
  },
  {
   "cell_type": "markdown",
   "metadata": {},
   "source": [
    "#### Conclusão :\n",
    "##### Enfim utilizar um perceptron simples para predição do meta no hearthstone realizadas as devidas preparações dos dados pode de fato alcançar uma precisão satisfatória para os valores em geral em que de fato é observado uma certa divisão regional entre decks que pertencem ao META e os que não.\n"
   ]
  }
 ],
 "metadata": {
  "kernelspec": {
   "display_name": "Python 3",
   "language": "python",
   "name": "python3"
  },
  "language_info": {
   "codemirror_mode": {
    "name": "ipython",
    "version": 3
   },
   "file_extension": ".py",
   "mimetype": "text/x-python",
   "name": "python",
   "nbconvert_exporter": "python",
   "pygments_lexer": "ipython3",
   "version": "3.7.1"
  }
 },
 "nbformat": 4,
 "nbformat_minor": 2
}
